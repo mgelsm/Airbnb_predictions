{
 "cells": [
  {
   "cell_type": "markdown",
   "metadata": {},
   "source": [
    "# Machine Learning "
   ]
  },
  {
   "cell_type": "code",
   "execution_count": 1,
   "metadata": {
    "collapsed": false
   },
   "outputs": [],
   "source": [
    "import pandas as pd\n",
    "import numpy as np\n",
    "import machine_learning_helper as machine_learning_helper"
   ]
  },
  {
   "cell_type": "markdown",
   "metadata": {},
   "source": [
    "## Read .csv files"
   ]
  },
  {
   "cell_type": "code",
   "execution_count": 2,
   "metadata": {
    "collapsed": false
   },
   "outputs": [],
   "source": [
    "df_train_users = pd.read_csv(\"cleaned_train_user.csv\")\n",
    "df_test_users = pd.read_csv(\"cleaned_test_user.csv\")\n",
    "df_time_mean_user_id = pd.read_csv(\"time_mean_user_id.csv\")\n",
    "df_time_total_user_id = pd.read_csv(\"time_total_user_id.csv\")\n",
    "df_total_action_user_id = pd.read_csv(\"total_action_user_id.csv\")"
   ]
  },
  {
   "cell_type": "markdown",
   "metadata": {},
   "source": [
    "## Construct sessions data frame"
   ]
  },
  {
   "cell_type": "code",
   "execution_count": 3,
   "metadata": {
    "collapsed": false
   },
   "outputs": [
    {
     "name": "stdout",
     "output_type": "stream",
     "text": [
      "X_train has dimension: (213451, 16)\n",
      "X_test has dimension: (62096, 15)\n"
     ]
    }
   ],
   "source": [
    "df_total_action_user_id.columns = ['id','action']\n",
    "df_sessions = pd.merge(df_time_mean_user_id, df_time_total_user_id, on='id', how='outer')\n",
    "df_sessions = pd.merge(df_sessions, df_total_action_user_id, on='id', how='outer')\n",
    "df_sessions.columns = ['id','time_mean_user','time_total_user','action']\n",
    "df_sessions.head()\n",
    "\n",
    "print(\"X_train has dimension:\",df_train_users.shape)\n",
    "print(\"X_test has dimension:\",df_test_users.shape)"
   ]
  },
  {
   "cell_type": "markdown",
   "metadata": {},
   "source": [
    "## 1. From data frame to matrix : Construct y_train"
   ]
  },
  {
   "cell_type": "markdown",
   "metadata": {},
   "source": [
    "What we want now for the training is 2 matrices X_train (matrix of relevant features) and y_train (booking dest)"
   ]
  },
  {
   "cell_type": "code",
   "execution_count": 4,
   "metadata": {
    "collapsed": false
   },
   "outputs": [],
   "source": [
    "y_labels, label_enc = machine_learning_helper.buildTargetMat(df_train_users)"
   ]
  },
  {
   "cell_type": "markdown",
   "metadata": {},
   "source": [
    "## 2. From data frame to matrix : Construct X_train & X_test"
   ]
  },
  {
   "cell_type": "code",
   "execution_count": 5,
   "metadata": {
    "collapsed": false
   },
   "outputs": [
    {
     "name": "stdout",
     "output_type": "stream",
     "text": [
      "141490\n",
      "213451\n",
      "213451\n"
     ]
    }
   ],
   "source": [
    "df_train_len = df_train_users.shape[0]\n",
    "df_train = df_train_users.drop(['country_destination'],axis=1)\n",
    "df_all = pd.concat((df_train_users, df_test_users), axis=0, ignore_index=True)\n",
    "df_all = pd.merge(df_all, df_sessions, on='id', how='left', left_index=True)\n",
    "\n",
    "print(df_all['action'].isnull().values.sum())\n",
    "print(len(df_train['id'].unique()))\n",
    "print(len(df_train['id']))"
   ]
  },
  {
   "cell_type": "code",
   "execution_count": 6,
   "metadata": {
    "collapsed": false
   },
   "outputs": [],
   "source": [
    "X_train, X_test = machine_learning_helper.buildFeatsMat(df_train_users, df_test_users, df_sessions)"
   ]
  },
  {
   "cell_type": "code",
   "execution_count": 7,
   "metadata": {
    "collapsed": false
   },
   "outputs": [
    {
     "name": "stdout",
     "output_type": "stream",
     "text": [
      "X_train has dimension: (213451, 156)\n",
      "X_test has dimension: (62096, 156)\n"
     ]
    },
    {
     "data": {
      "text/plain": [
       "134056        -1.000000\n",
       "134056        -1.000000\n",
       "134056        -1.000000\n",
       "134056        -1.000000\n",
       "134056        -1.000000\n",
       "134056        -1.000000\n",
       "134056        -1.000000\n",
       "134056        -1.000000\n",
       "134056        -1.000000\n",
       "134056        -1.000000\n",
       "134056        -1.000000\n",
       "134056        -1.000000\n",
       "134056        -1.000000\n",
       "134056        -1.000000\n",
       "134056        -1.000000\n",
       "134056        -1.000000\n",
       "134056        -1.000000\n",
       "134056        -1.000000\n",
       "134056        -1.000000\n",
       "134056        -1.000000\n",
       "134056        -1.000000\n",
       "48691      27202.611111\n",
       "129061     25980.250000\n",
       "16658      75696.266667\n",
       "86983      24868.211921\n",
       "17861        365.000000\n",
       "45649     690144.000000\n",
       "126226      8278.833333\n",
       "20245      13453.622222\n",
       "103174     30580.976190\n",
       "              ...      \n",
       "70655       9548.368421\n",
       "59382       7243.062500\n",
       "84881       9254.119048\n",
       "77609      24784.531250\n",
       "108420     29231.666667\n",
       "107423      7472.051282\n",
       "49239      10734.560976\n",
       "98629      20718.333948\n",
       "8407       16296.666667\n",
       "10142      72741.470588\n",
       "134056        -1.000000\n",
       "24315      11413.402985\n",
       "66454        147.500000\n",
       "114263     15305.666667\n",
       "82260       8800.000000\n",
       "134056        -1.000000\n",
       "61486       7452.484536\n",
       "95989      18955.445946\n",
       "28852      21593.166667\n",
       "112912     17104.000000\n",
       "127295     68288.166667\n",
       "134056        -1.000000\n",
       "19018      11231.000000\n",
       "46926      27366.290076\n",
       "61118        561.500000\n",
       "23848      14953.627119\n",
       "115275     55437.950000\n",
       "87967      10271.529412\n",
       "49530     105922.000000\n",
       "36675      18959.204545\n",
       "Name: time_mean_user, dtype: float64"
      ]
     },
     "execution_count": 7,
     "metadata": {},
     "output_type": "execute_result"
    }
   ],
   "source": [
    "print(\"X_train has dimension:\",X_train.shape)\n",
    "print(\"X_test has dimension:\",X_test.shape)\n",
    "\n",
    "X_train['time_mean_user'][137000:137100]"
   ]
  },
  {
   "cell_type": "markdown",
   "metadata": {},
   "source": [
    "## Learn model from X_train & y_labels"
   ]
  },
  {
   "cell_type": "code",
   "execution_count": 8,
   "metadata": {
    "collapsed": false
   },
   "outputs": [],
   "source": [
    "model = machine_learning_helper.trainRandForest(X_train, y_labels)"
   ]
  },
  {
   "cell_type": "markdown",
   "metadata": {},
   "source": [
    "## Predict countries from model"
   ]
  },
  {
   "cell_type": "code",
   "execution_count": 9,
   "metadata": {
    "collapsed": false
   },
   "outputs": [],
   "source": [
    "y_pred = machine_learning_helper.predictCountries(model,X_test)"
   ]
  },
  {
   "cell_type": "code",
   "execution_count": 10,
   "metadata": {
    "collapsed": false
   },
   "outputs": [],
   "source": [
    "y_pred = label_enc.inverse_transform(y_pred)"
   ]
  },
  {
   "cell_type": "markdown",
   "metadata": {},
   "source": [
    "## Convert to csv for submission"
   ]
  },
  {
   "cell_type": "code",
   "execution_count": 11,
   "metadata": {
    "collapsed": false
   },
   "outputs": [],
   "source": [
    "df_submission = pd.DataFrame(np.column_stack((df_test_users['id'], y_pred)), columns=['id', 'country'])\n",
    "df_submission.to_csv('submission_country_dest.csv',index=False)"
   ]
  },
  {
   "cell_type": "code",
   "execution_count": null,
   "metadata": {
    "collapsed": true
   },
   "outputs": [],
   "source": []
  }
 ],
 "metadata": {
  "anaconda-cloud": {},
  "kernelspec": {
   "display_name": "Python [default]",
   "language": "python",
   "name": "python3"
  },
  "language_info": {
   "codemirror_mode": {
    "name": "ipython",
    "version": 3
   },
   "file_extension": ".py",
   "mimetype": "text/x-python",
   "name": "python",
   "nbconvert_exporter": "python",
   "pygments_lexer": "ipython3",
   "version": "3.5.2"
  }
 },
 "nbformat": 4,
 "nbformat_minor": 1
}
