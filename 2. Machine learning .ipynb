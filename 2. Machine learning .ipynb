{
 "cells": [
  {
   "cell_type": "markdown",
   "metadata": {},
   "source": [
    "# Machine Learning "
   ]
  },
  {
   "cell_type": "code",
   "execution_count": 1,
   "metadata": {
    "collapsed": true
   },
   "outputs": [],
   "source": [
    "import pandas as pd\n",
    "import numpy as np\n",
    "import os\n",
    "from IPython.display import Image\n",
    "from IPython.core.display import HTML \n",
    "import matplotlib.pyplot as plt  \n",
    "% matplotlib inline\n",
    "import random\n",
    "from datetime import datetime\n",
    "import seaborn as sns\n",
    "from pandas.tools.plotting import scatter_matrix\n",
    "from scipy.sparse import coo_matrix\n",
    "import copy\n",
    "import sklearn.neighbors, sklearn.linear_model, sklearn.ensemble, sklearn.naive_bayes # Baseline classification techniques\n",
    "import scipy.io # Import data\n",
    "import time"
   ]
  },
  {
   "cell_type": "code",
   "execution_count": 2,
   "metadata": {
    "collapsed": false
   },
   "outputs": [
    {
     "data": {
      "text/html": [
       "<div>\n",
       "<table border=\"1\" class=\"dataframe\">\n",
       "  <thead>\n",
       "    <tr style=\"text-align: right;\">\n",
       "      <th></th>\n",
       "      <th>Unnamed: 0</th>\n",
       "      <th>id</th>\n",
       "      <th>date_account_created</th>\n",
       "      <th>timestamp_first_active</th>\n",
       "      <th>date_first_booking</th>\n",
       "      <th>gender</th>\n",
       "      <th>age</th>\n",
       "      <th>signup_method</th>\n",
       "      <th>signup_flow</th>\n",
       "      <th>language</th>\n",
       "      <th>affiliate_channel</th>\n",
       "      <th>affiliate_provider</th>\n",
       "      <th>first_affiliate_tracked</th>\n",
       "      <th>signup_app</th>\n",
       "      <th>first_device_type</th>\n",
       "      <th>first_browser</th>\n",
       "      <th>country_destination</th>\n",
       "    </tr>\n",
       "  </thead>\n",
       "  <tbody>\n",
       "    <tr>\n",
       "      <th>0</th>\n",
       "      <td>2</td>\n",
       "      <td>4ft3gnwmtx</td>\n",
       "      <td>2010-09-28</td>\n",
       "      <td>20090609231247</td>\n",
       "      <td>2010-08-02</td>\n",
       "      <td>FEMALE</td>\n",
       "      <td>56.0</td>\n",
       "      <td>basic</td>\n",
       "      <td>3</td>\n",
       "      <td>en</td>\n",
       "      <td>direct</td>\n",
       "      <td>direct</td>\n",
       "      <td>untracked</td>\n",
       "      <td>Web</td>\n",
       "      <td>Windows Desktop</td>\n",
       "      <td>IE</td>\n",
       "      <td>US</td>\n",
       "    </tr>\n",
       "    <tr>\n",
       "      <th>1</th>\n",
       "      <td>3</td>\n",
       "      <td>bjjt8pjhuk</td>\n",
       "      <td>2011-12-05</td>\n",
       "      <td>20091031060129</td>\n",
       "      <td>2012-09-08</td>\n",
       "      <td>FEMALE</td>\n",
       "      <td>42.0</td>\n",
       "      <td>facebook</td>\n",
       "      <td>0</td>\n",
       "      <td>en</td>\n",
       "      <td>direct</td>\n",
       "      <td>direct</td>\n",
       "      <td>untracked</td>\n",
       "      <td>Web</td>\n",
       "      <td>Mac Desktop</td>\n",
       "      <td>Firefox</td>\n",
       "      <td>other</td>\n",
       "    </tr>\n",
       "    <tr>\n",
       "      <th>2</th>\n",
       "      <td>4</td>\n",
       "      <td>87mebub9p4</td>\n",
       "      <td>2010-09-14</td>\n",
       "      <td>20091208061105</td>\n",
       "      <td>2010-02-18</td>\n",
       "      <td>UNKNOWN</td>\n",
       "      <td>41.0</td>\n",
       "      <td>basic</td>\n",
       "      <td>0</td>\n",
       "      <td>en</td>\n",
       "      <td>direct</td>\n",
       "      <td>direct</td>\n",
       "      <td>untracked</td>\n",
       "      <td>Web</td>\n",
       "      <td>Mac Desktop</td>\n",
       "      <td>Chrome</td>\n",
       "      <td>US</td>\n",
       "    </tr>\n",
       "    <tr>\n",
       "      <th>3</th>\n",
       "      <td>6</td>\n",
       "      <td>lsw9q7uk0j</td>\n",
       "      <td>2010-01-02</td>\n",
       "      <td>20100102012558</td>\n",
       "      <td>2010-01-05</td>\n",
       "      <td>FEMALE</td>\n",
       "      <td>46.0</td>\n",
       "      <td>basic</td>\n",
       "      <td>0</td>\n",
       "      <td>en</td>\n",
       "      <td>other</td>\n",
       "      <td>craigslist</td>\n",
       "      <td>untracked</td>\n",
       "      <td>Web</td>\n",
       "      <td>Mac Desktop</td>\n",
       "      <td>Safari</td>\n",
       "      <td>US</td>\n",
       "    </tr>\n",
       "    <tr>\n",
       "      <th>4</th>\n",
       "      <td>7</td>\n",
       "      <td>0d01nltbrs</td>\n",
       "      <td>2010-01-03</td>\n",
       "      <td>20100103191905</td>\n",
       "      <td>2010-01-13</td>\n",
       "      <td>FEMALE</td>\n",
       "      <td>47.0</td>\n",
       "      <td>basic</td>\n",
       "      <td>0</td>\n",
       "      <td>en</td>\n",
       "      <td>direct</td>\n",
       "      <td>direct</td>\n",
       "      <td>omg</td>\n",
       "      <td>Web</td>\n",
       "      <td>Mac Desktop</td>\n",
       "      <td>Safari</td>\n",
       "      <td>US</td>\n",
       "    </tr>\n",
       "  </tbody>\n",
       "</table>\n",
       "</div>"
      ],
      "text/plain": [
       "   Unnamed: 0          id date_account_created  timestamp_first_active  \\\n",
       "0           2  4ft3gnwmtx           2010-09-28          20090609231247   \n",
       "1           3  bjjt8pjhuk           2011-12-05          20091031060129   \n",
       "2           4  87mebub9p4           2010-09-14          20091208061105   \n",
       "3           6  lsw9q7uk0j           2010-01-02          20100102012558   \n",
       "4           7  0d01nltbrs           2010-01-03          20100103191905   \n",
       "\n",
       "  date_first_booking   gender   age signup_method  signup_flow language  \\\n",
       "0         2010-08-02   FEMALE  56.0         basic            3       en   \n",
       "1         2012-09-08   FEMALE  42.0      facebook            0       en   \n",
       "2         2010-02-18  UNKNOWN  41.0         basic            0       en   \n",
       "3         2010-01-05   FEMALE  46.0         basic            0       en   \n",
       "4         2010-01-13   FEMALE  47.0         basic            0       en   \n",
       "\n",
       "  affiliate_channel affiliate_provider first_affiliate_tracked signup_app  \\\n",
       "0            direct             direct               untracked        Web   \n",
       "1            direct             direct               untracked        Web   \n",
       "2            direct             direct               untracked        Web   \n",
       "3             other         craigslist               untracked        Web   \n",
       "4            direct             direct                     omg        Web   \n",
       "\n",
       "  first_device_type first_browser country_destination  \n",
       "0   Windows Desktop            IE                  US  \n",
       "1       Mac Desktop       Firefox               other  \n",
       "2       Mac Desktop        Chrome                  US  \n",
       "3       Mac Desktop        Safari                  US  \n",
       "4       Mac Desktop        Safari                  US  "
      ]
     },
     "execution_count": 2,
     "metadata": {},
     "output_type": "execute_result"
    }
   ],
   "source": [
    "df_train_users = pd.read_csv(\"train_users2_cleaned.csv\")\n",
    "#df_sessions = pd.read_csv(\"session_cleaned.csv\")\n",
    "df_test_users = pd.read_csv(\"test_users_cleaned.csv\")\n",
    "df_train_users.head()"
   ]
  },
  {
   "cell_type": "markdown",
   "metadata": {},
   "source": [
    "## 1. From data frame to matrix : Construct y_train"
   ]
  },
  {
   "cell_type": "markdown",
   "metadata": {},
   "source": [
    "What we want now for the training is 2 matrices X_train (matrix of relevant features) and y_train (booking dest)"
   ]
  },
  {
   "cell_type": "code",
   "execution_count": 3,
   "metadata": {
    "collapsed": false
   },
   "outputs": [
    {
     "name": "stdout",
     "output_type": "stream",
     "text": [
      "\n",
      "Mapping country to numbers: {'FR': 3, 'DE': 8, 'ES': 5, 'PT': 10, 'GB': 6, 'CA': 2, 'US': 0, 'AU': 9, 'NL': 7, 'other': 1, 'IT': 4}\n",
      "\n",
      "Mapping numbers to country: {0: 'US', 1: 'other', 2: 'CA', 3: 'FR', 4: 'IT', 5: 'ES', 6: 'GB', 7: 'NL', 8: 'DE', 9: 'AU', 10: 'PT'}\n"
     ]
    }
   ],
   "source": [
    "# extract y_train\n",
    "y_train = df_train_users['country_destination']\n",
    "\n",
    "# gen var\n",
    "country_dest = df_train_users['country_destination'].unique()\n",
    "nb_dest = len(country_dest)\n",
    "data_len = len(y_train)\n",
    "\n",
    "# mapping \n",
    "country_to_ix = { co:i for i,co in enumerate(country_dest) }\n",
    "ix_to_country = { i:co for i,co in enumerate(country_dest) }\n",
    "\n",
    "y_train_ix = [country_to_ix[co] for co in y_train[:data_len]]\n",
    "y_train = np.array(y_train_ix)\n",
    "\n",
    "print('\\nMapping country to numbers:',country_to_ix)\n",
    "print('\\nMapping numbers to country:',ix_to_country)"
   ]
  },
  {
   "cell_type": "code",
   "execution_count": 4,
   "metadata": {
    "collapsed": false
   },
   "outputs": [
    {
     "name": "stdout",
     "output_type": "stream",
     "text": [
      "67163\n",
      "[0 1 0 ..., 5 0 0]\n"
     ]
    }
   ],
   "source": [
    "# Convert label values to one_hot vector \n",
    "one_hot_enable = 0\n",
    "def convert_to_one_hot(a,max_val=None):\n",
    "    N = a.size\n",
    "    data = np.ones(N,dtype=int)\n",
    "    sparse_out = coo_matrix((data,(np.arange(N),a.ravel())), shape=(N,max_val))\n",
    "    return np.array(sparse_out.todense())\n",
    "\n",
    "if one_hot_enable:\n",
    "    y_train = convert_to_one_hot(y_train,nb_dest)\n",
    "\n",
    "print(np.size(y_train))\n",
    "print(y_train)"
   ]
  },
  {
   "cell_type": "markdown",
   "metadata": {},
   "source": [
    "## 2. From data frame to matrix : Construct X_train"
   ]
  },
  {
   "cell_type": "markdown",
   "metadata": {},
   "source": [
    "From the cleaned files sessions and train_users we need to choose (relevant) features. \n",
    "Ex :\n",
    "    - number of sessions per id \n",
    "    - type of actions \n",
    "    - number of actions (number of clicks in total)\n",
    "    - device \n",
    "    - average time per session \n",
    "    - etc..."
   ]
  },
  {
   "cell_type": "code",
   "execution_count": 5,
   "metadata": {
    "collapsed": true
   },
   "outputs": [],
   "source": [
    "#\n",
    "\n",
    "\n",
    "\n",
    "#\n",
    "\n",
    "\n",
    "\n",
    "#"
   ]
  },
  {
   "cell_type": "markdown",
   "metadata": {},
   "source": [
    "## Run machine learning with X_train and y_train"
   ]
  },
  {
   "cell_type": "code",
   "execution_count": 36,
   "metadata": {
    "collapsed": false
   },
   "outputs": [
    {
     "ename": "AttributeError",
     "evalue": "'list' object has no attribute 'size'",
     "output_type": "error",
     "traceback": [
      "\u001b[0;31m---------------------------------------------------------------------------\u001b[0m",
      "\u001b[0;31mAttributeError\u001b[0m                            Traceback (most recent call last)",
      "\u001b[0;32m<ipython-input-36-a5196ec74670>\u001b[0m in \u001b[0;36m<module>\u001b[0;34m()\u001b[0m\n\u001b[1;32m     14\u001b[0m     \u001b[0my_pred\u001b[0m\u001b[0;34m.\u001b[0m\u001b[0mappend\u001b[0m\u001b[0;34m(\u001b[0m\u001b[0mix_to_country\u001b[0m\u001b[0;34m[\u001b[0m\u001b[0mix\u001b[0m\u001b[0;34m]\u001b[0m\u001b[0;34m)\u001b[0m\u001b[0;34m\u001b[0m\u001b[0m\n\u001b[1;32m     15\u001b[0m \u001b[0;34m\u001b[0m\u001b[0m\n\u001b[0;32m---> 16\u001b[0;31m \u001b[0my_pred\u001b[0m\u001b[0;34m.\u001b[0m\u001b[0msize\u001b[0m\u001b[0;34m\u001b[0m\u001b[0m\n\u001b[0m",
      "\u001b[0;31mAttributeError\u001b[0m: 'list' object has no attribute 'size'"
     ]
    }
   ],
   "source": [
    "# Train model example with random forest \n",
    "#rand_forest_model = sklearn.ensemble.RandomForestClassifier(n_estimators=100,max_depth=15)\n",
    "#rand_forest_model.fit(X_train,y_train)\n",
    "\n",
    "# Predict from model neigh\n",
    "#y_pred = rand_forest_model.predict(X_test)\n",
    "\n",
    "# random country for testing \n",
    "y_test_len = len(df_test_users)\n",
    "y = np.random.randint(nb_dest, size=y_test_len)\n",
    "# ix to country \n",
    "y_pred = []\n",
    "for ix in list(y):\n",
    "    y_pred.append(ix_to_country[ix])\n",
    " \n"
   ]
  },
  {
   "cell_type": "markdown",
   "metadata": {},
   "source": [
    "## Convert to csv for submission"
   ]
  },
  {
   "cell_type": "code",
   "execution_count": 38,
   "metadata": {
    "collapsed": false
   },
   "outputs": [
    {
     "name": "stdout",
     "output_type": "stream",
     "text": [
      "      country\n",
      "0          GB\n",
      "1          US\n",
      "2          AU\n",
      "3          DE\n",
      "4          IT\n",
      "5          NL\n",
      "6       other\n",
      "7          DE\n",
      "8          GB\n",
      "9          NL\n",
      "10      other\n",
      "11         CA\n",
      "12      other\n",
      "13      other\n",
      "14         AU\n",
      "15         GB\n",
      "16         DE\n",
      "17         FR\n",
      "18         DE\n",
      "19         US\n",
      "20         CA\n",
      "21      other\n",
      "22         US\n",
      "23         US\n",
      "24         FR\n",
      "25         DE\n",
      "26         NL\n",
      "27         PT\n",
      "28         CA\n",
      "29         ES\n",
      "...       ...\n",
      "62066      ES\n",
      "62067      DE\n",
      "62068      CA\n",
      "62069   other\n",
      "62070      GB\n",
      "62071      PT\n",
      "62072   other\n",
      "62073      DE\n",
      "62074      FR\n",
      "62075      DE\n",
      "62076      PT\n",
      "62077      CA\n",
      "62078      PT\n",
      "62079   other\n",
      "62080      PT\n",
      "62081      FR\n",
      "62082      PT\n",
      "62083      CA\n",
      "62084      PT\n",
      "62085      DE\n",
      "62086      CA\n",
      "62087      NL\n",
      "62088      IT\n",
      "62089      IT\n",
      "62090      DE\n",
      "62091      IT\n",
      "62092      US\n",
      "62093      FR\n",
      "62094      ES\n",
      "62095      IT\n",
      "\n",
      "[62096 rows x 1 columns]\n",
      "                0      1\n",
      "0      5uwns89zht     GB\n",
      "1      jtl0dijy2j     US\n",
      "2      xx0ulgorjt     AU\n",
      "3      6c6puo6ix0     DE\n",
      "4      czqhjk3yfe     IT\n",
      "5      szx28ujmhf     NL\n",
      "6      guenkfjcbq  other\n",
      "7      tkpq0mlugk     DE\n",
      "8      3xtgd5p9dn     GB\n",
      "9      md9aj22l5a     NL\n",
      "10     gg3eswjxdf  other\n",
      "11     fyomoivygn     CA\n",
      "12     iq4kkd5oan  other\n",
      "13     6k1xls6x5j  other\n",
      "14     jodmb2ok1f     AU\n",
      "15     eq6fy0m4vc     GB\n",
      "16     yq4i7nfh6l     DE\n",
      "17     q5pibqdous     FR\n",
      "18     i0sc6d3j8s     DE\n",
      "19     br5mcrsqzn     US\n",
      "20     rddbczuxx1     CA\n",
      "21     glck7hlmzz  other\n",
      "22     sxpkaxep8n     US\n",
      "23     sr4ntmalz2     US\n",
      "24     f6wueq1ccn     FR\n",
      "25     ovc6nwn6mj     DE\n",
      "26     n10skstp90     NL\n",
      "27     5jrbdigmv4     PT\n",
      "28     d45nngmojp     CA\n",
      "29     y0frb6t1kq     ES\n",
      "...           ...    ...\n",
      "62066  bsv2ev628t     ES\n",
      "62067  06echc56pl     DE\n",
      "62068  niqgaye2ov     CA\n",
      "62069  61iwzuhw6e  other\n",
      "62070  gks02el96u     GB\n",
      "62071  v4r1161l0r     PT\n",
      "62072  p1clbqd0o6  other\n",
      "62073  ozb2z0km6l     DE\n",
      "62074  w3e3sp6i70     FR\n",
      "62075  q5bxbq0asg     DE\n",
      "62076  1xa5t3t0la     PT\n",
      "62077  zuvz7gfpjz     CA\n",
      "62078  gpusl6ppgf     PT\n",
      "62079  gpijioh4eh  other\n",
      "62080  3ptlvdxss9     PT\n",
      "62081  f9a1ncjnrg     FR\n",
      "62082  kofaz2kh70     PT\n",
      "62083  6xrmom7hjo     CA\n",
      "62084  cg9wqgnad2     PT\n",
      "62085  jg618z94wo     DE\n",
      "62086  u7lv3glv6y     CA\n",
      "62087  o6ofmozucx     NL\n",
      "62088  wcw7xggeqp     IT\n",
      "62089  m22pw2pkxr     IT\n",
      "62090  8yvhec201j     DE\n",
      "62091  cv0na2lf5a     IT\n",
      "62092  zp8xfonng8     US\n",
      "62093  fa6260ziny     FR\n",
      "62094  87k0fy4ugm     ES\n",
      "62095  9uqfg8txu3     IT\n",
      "\n",
      "[62096 rows x 2 columns]\n"
     ]
    }
   ],
   "source": [
    "df_y_pred = pd.DataFrame(y_pred,columns = [\"country\"])\n",
    "print(df_y_pred)\n",
    "df_id = df_test_users['id']\n",
    "\n",
    "df_submission =  pd.concat([df_id, df_y_pred] , axis=1)\n",
    "print(df_submission)\n",
    "\n",
    "df_submission.to_csv('submission_country_dest.csv')\n"
   ]
  }
 ],
 "metadata": {
  "anaconda-cloud": {},
  "kernelspec": {
   "display_name": "Python [default]",
   "language": "python",
   "name": "python3"
  },
  "language_info": {
   "codemirror_mode": {
    "name": "ipython",
    "version": 3
   },
   "file_extension": ".py",
   "mimetype": "text/x-python",
   "name": "python",
   "nbconvert_exporter": "python",
   "pygments_lexer": "ipython3",
   "version": "3.5.2"
  }
 },
 "nbformat": 4,
 "nbformat_minor": 1
}
