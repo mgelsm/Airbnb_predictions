{
 "cells": [
  {
   "cell_type": "markdown",
   "metadata": {},
   "source": [
    "# Preprocessing countries"
   ]
  },
  {
   "cell_type": "code",
   "execution_count": 1,
   "metadata": {
    "collapsed": true
   },
   "outputs": [],
   "source": [
    "import pandas as pd\n",
    "import numpy as np\n",
    "import os\n",
    "from IPython.display import Image\n",
    "from IPython.core.display import HTML \n",
    "import matplotlib.pyplot as plt  \n",
    "% matplotlib inline\n",
    "import random\n",
    "from datetime import datetime\n",
    "import seaborn as sns\n",
    "from pandas.tools.plotting import scatter_matrix\n",
    "import copy"
   ]
  },
  {
   "cell_type": "code",
   "execution_count": 2,
   "metadata": {
    "collapsed": false
   },
   "outputs": [
    {
     "data": {
      "text/html": [
       "<div>\n",
       "<table border=\"1\" class=\"dataframe\">\n",
       "  <thead>\n",
       "    <tr style=\"text-align: right;\">\n",
       "      <th></th>\n",
       "      <th>id</th>\n",
       "      <th>date_account_created</th>\n",
       "      <th>timestamp_first_active</th>\n",
       "      <th>date_first_booking</th>\n",
       "      <th>gender</th>\n",
       "      <th>age</th>\n",
       "      <th>signup_method</th>\n",
       "      <th>signup_flow</th>\n",
       "      <th>language</th>\n",
       "      <th>affiliate_channel</th>\n",
       "      <th>affiliate_provider</th>\n",
       "      <th>first_affiliate_tracked</th>\n",
       "      <th>signup_app</th>\n",
       "      <th>first_device_type</th>\n",
       "      <th>first_browser</th>\n",
       "      <th>country_destination</th>\n",
       "    </tr>\n",
       "  </thead>\n",
       "  <tbody>\n",
       "    <tr>\n",
       "      <th>0</th>\n",
       "      <td>gxn3p5htnn</td>\n",
       "      <td>2010-06-28</td>\n",
       "      <td>20090319043255</td>\n",
       "      <td>NaN</td>\n",
       "      <td>-unknown-</td>\n",
       "      <td>NaN</td>\n",
       "      <td>facebook</td>\n",
       "      <td>0</td>\n",
       "      <td>en</td>\n",
       "      <td>direct</td>\n",
       "      <td>direct</td>\n",
       "      <td>untracked</td>\n",
       "      <td>Web</td>\n",
       "      <td>Mac Desktop</td>\n",
       "      <td>Chrome</td>\n",
       "      <td>NDF</td>\n",
       "    </tr>\n",
       "    <tr>\n",
       "      <th>1</th>\n",
       "      <td>820tgsjxq7</td>\n",
       "      <td>2011-05-25</td>\n",
       "      <td>20090523174809</td>\n",
       "      <td>NaN</td>\n",
       "      <td>MALE</td>\n",
       "      <td>38.0</td>\n",
       "      <td>facebook</td>\n",
       "      <td>0</td>\n",
       "      <td>en</td>\n",
       "      <td>seo</td>\n",
       "      <td>google</td>\n",
       "      <td>untracked</td>\n",
       "      <td>Web</td>\n",
       "      <td>Mac Desktop</td>\n",
       "      <td>Chrome</td>\n",
       "      <td>NDF</td>\n",
       "    </tr>\n",
       "    <tr>\n",
       "      <th>2</th>\n",
       "      <td>4ft3gnwmtx</td>\n",
       "      <td>2010-09-28</td>\n",
       "      <td>20090609231247</td>\n",
       "      <td>2010-08-02</td>\n",
       "      <td>FEMALE</td>\n",
       "      <td>56.0</td>\n",
       "      <td>basic</td>\n",
       "      <td>3</td>\n",
       "      <td>en</td>\n",
       "      <td>direct</td>\n",
       "      <td>direct</td>\n",
       "      <td>untracked</td>\n",
       "      <td>Web</td>\n",
       "      <td>Windows Desktop</td>\n",
       "      <td>IE</td>\n",
       "      <td>US</td>\n",
       "    </tr>\n",
       "    <tr>\n",
       "      <th>3</th>\n",
       "      <td>bjjt8pjhuk</td>\n",
       "      <td>2011-12-05</td>\n",
       "      <td>20091031060129</td>\n",
       "      <td>2012-09-08</td>\n",
       "      <td>FEMALE</td>\n",
       "      <td>42.0</td>\n",
       "      <td>facebook</td>\n",
       "      <td>0</td>\n",
       "      <td>en</td>\n",
       "      <td>direct</td>\n",
       "      <td>direct</td>\n",
       "      <td>untracked</td>\n",
       "      <td>Web</td>\n",
       "      <td>Mac Desktop</td>\n",
       "      <td>Firefox</td>\n",
       "      <td>other</td>\n",
       "    </tr>\n",
       "    <tr>\n",
       "      <th>4</th>\n",
       "      <td>87mebub9p4</td>\n",
       "      <td>2010-09-14</td>\n",
       "      <td>20091208061105</td>\n",
       "      <td>2010-02-18</td>\n",
       "      <td>-unknown-</td>\n",
       "      <td>41.0</td>\n",
       "      <td>basic</td>\n",
       "      <td>0</td>\n",
       "      <td>en</td>\n",
       "      <td>direct</td>\n",
       "      <td>direct</td>\n",
       "      <td>untracked</td>\n",
       "      <td>Web</td>\n",
       "      <td>Mac Desktop</td>\n",
       "      <td>Chrome</td>\n",
       "      <td>US</td>\n",
       "    </tr>\n",
       "  </tbody>\n",
       "</table>\n",
       "</div>"
      ],
      "text/plain": [
       "           id date_account_created  timestamp_first_active date_first_booking  \\\n",
       "0  gxn3p5htnn           2010-06-28          20090319043255                NaN   \n",
       "1  820tgsjxq7           2011-05-25          20090523174809                NaN   \n",
       "2  4ft3gnwmtx           2010-09-28          20090609231247         2010-08-02   \n",
       "3  bjjt8pjhuk           2011-12-05          20091031060129         2012-09-08   \n",
       "4  87mebub9p4           2010-09-14          20091208061105         2010-02-18   \n",
       "\n",
       "      gender   age signup_method  signup_flow language affiliate_channel  \\\n",
       "0  -unknown-   NaN      facebook            0       en            direct   \n",
       "1       MALE  38.0      facebook            0       en               seo   \n",
       "2     FEMALE  56.0         basic            3       en            direct   \n",
       "3     FEMALE  42.0      facebook            0       en            direct   \n",
       "4  -unknown-  41.0         basic            0       en            direct   \n",
       "\n",
       "  affiliate_provider first_affiliate_tracked signup_app first_device_type  \\\n",
       "0             direct               untracked        Web       Mac Desktop   \n",
       "1             google               untracked        Web       Mac Desktop   \n",
       "2             direct               untracked        Web   Windows Desktop   \n",
       "3             direct               untracked        Web       Mac Desktop   \n",
       "4             direct               untracked        Web       Mac Desktop   \n",
       "\n",
       "  first_browser country_destination  \n",
       "0        Chrome                 NDF  \n",
       "1        Chrome                 NDF  \n",
       "2            IE                  US  \n",
       "3       Firefox               other  \n",
       "4        Chrome                  US  "
      ]
     },
     "execution_count": 2,
     "metadata": {},
     "output_type": "execute_result"
    }
   ],
   "source": [
    "df = pd.read_csv(\"train_users_2.csv\")\n",
    "df.head()"
   ]
  },
  {
   "cell_type": "code",
   "execution_count": 3,
   "metadata": {
    "collapsed": false
   },
   "outputs": [
    {
     "data": {
      "text/html": [
       "<div>\n",
       "<table border=\"1\" class=\"dataframe\">\n",
       "  <thead>\n",
       "    <tr style=\"text-align: right;\">\n",
       "      <th></th>\n",
       "      <th>timestamp_first_active</th>\n",
       "      <th>age</th>\n",
       "      <th>signup_flow</th>\n",
       "    </tr>\n",
       "  </thead>\n",
       "  <tbody>\n",
       "    <tr>\n",
       "      <th>count</th>\n",
       "      <td>2.134510e+05</td>\n",
       "      <td>125461.000000</td>\n",
       "      <td>213451.000000</td>\n",
       "    </tr>\n",
       "    <tr>\n",
       "      <th>mean</th>\n",
       "      <td>2.013085e+13</td>\n",
       "      <td>49.668335</td>\n",
       "      <td>3.267387</td>\n",
       "    </tr>\n",
       "    <tr>\n",
       "      <th>std</th>\n",
       "      <td>9.253717e+09</td>\n",
       "      <td>155.666612</td>\n",
       "      <td>7.637707</td>\n",
       "    </tr>\n",
       "    <tr>\n",
       "      <th>min</th>\n",
       "      <td>2.009032e+13</td>\n",
       "      <td>1.000000</td>\n",
       "      <td>0.000000</td>\n",
       "    </tr>\n",
       "    <tr>\n",
       "      <th>25%</th>\n",
       "      <td>2.012123e+13</td>\n",
       "      <td>28.000000</td>\n",
       "      <td>0.000000</td>\n",
       "    </tr>\n",
       "    <tr>\n",
       "      <th>50%</th>\n",
       "      <td>2.013091e+13</td>\n",
       "      <td>34.000000</td>\n",
       "      <td>0.000000</td>\n",
       "    </tr>\n",
       "    <tr>\n",
       "      <th>75%</th>\n",
       "      <td>2.014031e+13</td>\n",
       "      <td>43.000000</td>\n",
       "      <td>0.000000</td>\n",
       "    </tr>\n",
       "    <tr>\n",
       "      <th>max</th>\n",
       "      <td>2.014063e+13</td>\n",
       "      <td>2014.000000</td>\n",
       "      <td>25.000000</td>\n",
       "    </tr>\n",
       "  </tbody>\n",
       "</table>\n",
       "</div>"
      ],
      "text/plain": [
       "       timestamp_first_active            age    signup_flow\n",
       "count            2.134510e+05  125461.000000  213451.000000\n",
       "mean             2.013085e+13      49.668335       3.267387\n",
       "std              9.253717e+09     155.666612       7.637707\n",
       "min              2.009032e+13       1.000000       0.000000\n",
       "25%              2.012123e+13      28.000000       0.000000\n",
       "50%              2.013091e+13      34.000000       0.000000\n",
       "75%              2.014031e+13      43.000000       0.000000\n",
       "max              2.014063e+13    2014.000000      25.000000"
      ]
     },
     "execution_count": 3,
     "metadata": {},
     "output_type": "execute_result"
    }
   ],
   "source": [
    "df.describe()"
   ]
  },
  {
   "cell_type": "markdown",
   "metadata": {},
   "source": [
    "# 1. Evaluating the consistency of the dataset\n",
    "\n",
    "Are there missing values in the data ?"
   ]
  },
  {
   "cell_type": "code",
   "execution_count": 4,
   "metadata": {
    "collapsed": false
   },
   "outputs": [
    {
     "data": {
      "text/plain": [
       "id                         False\n",
       "date_account_created       False\n",
       "timestamp_first_active     False\n",
       "date_first_booking          True\n",
       "gender                     False\n",
       "age                         True\n",
       "signup_method              False\n",
       "signup_flow                False\n",
       "language                   False\n",
       "affiliate_channel          False\n",
       "affiliate_provider         False\n",
       "first_affiliate_tracked     True\n",
       "signup_app                 False\n",
       "first_device_type          False\n",
       "first_browser              False\n",
       "country_destination        False\n",
       "dtype: bool"
      ]
     },
     "execution_count": 4,
     "metadata": {},
     "output_type": "execute_result"
    }
   ],
   "source": [
    "def missing_values_table(df): \n",
    "        mis_val = df.isnull().sum()\n",
    "        mis_val_percent = 100 * df.isnull().sum()/len(df)\n",
    "        mis_val_table = pd.concat([mis_val, mis_val_percent], axis=1)\n",
    "        mis_val_table_ren_columns = mis_val_table.rename(\n",
    "        columns = {0 : 'Missing Values', 1 : '% of Total Values'})\n",
    "        return mis_val_table_ren_columns\n",
    "    \n",
    "#df.apply(missing_values_table, axis=1)\n",
    "df.isnull().any()"
   ]
  },
  {
   "cell_type": "markdown",
   "metadata": {},
   "source": [
    "**Hence, there are missing values in the columns : **\n",
    "\n",
    "* date_first_booking : users that never booked an airbnb apartment\n",
    "* gender : users that didn't wish to specify their gender\n",
    "* age : to be evaluated\n",
    "* first_affiliate_tracked : to be evaluated"
   ]
  },
  {
   "cell_type": "markdown",
   "metadata": {},
   "source": [
    "# 2. Cleaning age column"
   ]
  },
  {
   "cell_type": "markdown",
   "metadata": {},
   "source": [
    "Ages are represented in two ways in the dataset, some data represent the age and some oters represent the date of birth. Also, many irrelevant ages are present. \n",
    "\n",
    "For the relevancy of the data we will only keep users between the age of 15 and 90 years old\n",
    "\n",
    "A first step of cleaning the data would be to remove all users not in the span **[15,90]**.\n",
    "\n",
    "Also users having 2016-age belonging to [15,90] could be included to recover users that mistook their age with date of birth"
   ]
  },
  {
   "cell_type": "code",
   "execution_count": 12,
   "metadata": {
    "collapsed": false
   },
   "outputs": [],
   "source": [
    "df_age = copy.deepcopy(df)\n",
    "\n",
    "#df_age['age'].value_counts()\n",
    "#df_age.loc[df_age['age']>=90, 'age'] = 'NaN'\n",
    "#df_age.loc[df_age['age']<=15, 'age'] = 'NaN'\n",
    "df_age.loc[(df_age['age']<15) | (df_age['age']>=90), 'age'] = 'NaN'\n",
    "\n",
    "#df_age[:5]"
   ]
  },
  {
   "cell_type": "code",
   "execution_count": 14,
   "metadata": {
    "collapsed": false
   },
   "outputs": [
    {
     "name": "stdout",
     "output_type": "stream",
     "text": [
      "Percentage of users with irrelevant age 41.2225756731 %\n"
     ]
    }
   ],
   "source": [
    "OutOfBoundsAgePercentage = 100*df_age['age'].isnull().sum()/len(df_age)\n",
    "print('Percentage of users with irrelevant age',OutOfBoundsAgePercentage,'%')\n",
    "#df_age = df_age[np.isfinite(df_age['age'])]\n",
    "#df_age = df_age.dropna(how='any',subset=['age']) \n",
    "\n",
    "#print(df_age['age'].value_counts())\n"
   ]
  },
  {
   "cell_type": "code",
   "execution_count": null,
   "metadata": {
    "collapsed": false
   },
   "outputs": [],
   "source": []
  },
  {
   "cell_type": "code",
   "execution_count": 15,
   "metadata": {
    "collapsed": false,
    "scrolled": false
   },
   "outputs": [
    {
     "data": {
      "image/png": "[encoded data removed]",
      "text/plain": [
       "<matplotlib.figure.Figure at 0x113049390>"
      ]
     },
     "metadata": {},
     "output_type": "display_data"
    }
   ],
   "source": [
    "df_age.id.groupby(df_age.age).count().plot(kind='bar', alpha=0.4, color='b',figsize=(20,10))\n",
    "plt.ylabel('Number of  users')\n",
    "plt.show()"
   ]
  },
  {
   "cell_type": "markdown",
   "metadata": {
    "collapsed": false
   },
   "source": [
    "We will store the *user_id* of the users who have an invalid age in a new csv file. These users will be deleted. Having the *user_id* in a separate file will allow us to delete the corresponding entries in the file *sessions.csv*"
   ]
  },
  {
   "cell_type": "code",
   "execution_count": 25,
   "metadata": {
    "collapsed": false
   },
   "outputs": [],
   "source": [
    "df_invalid_age = df_age.loc[(df_age['age']=='NaN'), ['id']]\n",
    "pd.DataFrame(df_invalid_age, columns=list(df_invalid_age.columns)).to_csv('invalid_age_user_id.csv', index=False, encoding=\"utf-8\") "
   ]
  },
  {
   "cell_type": "markdown",
   "metadata": {
    "collapsed": false
   },
   "source": [
    "# 3. Cleaning the date_first_booking column"
   ]
  },
  {
   "cell_type": "code",
   "execution_count": 26,
   "metadata": {
    "collapsed": false
   },
   "outputs": [
    {
     "name": "stdout",
     "output_type": "stream",
     "text": [
      "Percentage of non bookers 58.3473490403 %\n"
     ]
    }
   ],
   "source": [
    "NonBookersPercentage = df['date_first_booking'].isnull().sum()/len(df)\n",
    "print('Percentage of non bookers',NonBookersPercentage*100,'%')"
   ]
  },
  {
   "cell_type": "markdown",
   "metadata": {},
   "source": [
    "More than half of the dataset holds non booker users"
   ]
  },
  {
   "cell_type": "code",
   "execution_count": null,
   "metadata": {
    "collapsed": false
   },
   "outputs": [],
   "source": []
  },
  {
   "cell_type": "code",
   "execution_count": 213,
   "metadata": {
    "collapsed": false
   },
   "outputs": [],
   "source": [
    "df_booking = copy.deepcopy(df)\n",
    "df_booking = df_booking.dropna(how='any',subset=['date_first_booking']) "
   ]
  },
  {
   "cell_type": "code",
   "execution_count": 214,
   "metadata": {
    "collapsed": false
   },
   "outputs": [
    {
     "name": "stdout",
     "output_type": "stream",
     "text": [
      "Percentage of non bookers 0.0 %\n"
     ]
    }
   ],
   "source": [
    "NonBookersPercentage = df_booking['date_first_booking'].isnull().sum()/len(df)\n",
    "print('Percentage of non bookers',NonBookersPercentage*100,'%')"
   ]
  },
  {
   "cell_type": "code",
   "execution_count": 215,
   "metadata": {
    "collapsed": false
   },
   "outputs": [],
   "source": [
    "def convert_time(row):\n",
    "    return datetime.strptime(row['date_first_booking'], '%Y-%m-%d')\n",
    "\n",
    "df_booking['date_first_booking'] = df_booking.apply(convert_time, axis=1)"
   ]
  },
  {
   "cell_type": "code",
   "execution_count": null,
   "metadata": {
    "collapsed": false
   },
   "outputs": [],
   "source": []
  },
  {
   "cell_type": "code",
   "execution_count": 127,
   "metadata": {
    "collapsed": false
   },
   "outputs": [
    {
     "data": {
      "text/plain": [
       "<matplotlib.text.Text at 0x116e13e48>"
      ]
     },
     "execution_count": 127,
     "metadata": {},
     "output_type": "execute_result"
    },
    {
     "data": {
      "image/png": "[encoded data removed]",
      "text/plain": [
       "<matplotlib.figure.Figure at 0x1161056d8>"
      ]
     },
     "metadata": {},
     "output_type": "display_data"
    }
   ],
   "source": [
    "df_booking.id.groupby([df_booking.date_first_booking.dt.month]).count().plot(kind=\"bar\")\n",
    "plt.xlabel('Month number')\n",
    "plt.ylabel('Number of bookings')"
   ]
  },
  {
   "cell_type": "markdown",
   "metadata": {},
   "source": [
    "It is possible to understand from this histogram that the bookings are pretty well spread over the year. Much less bookings are made during november and december and the months of May and June are the ones where users book the most."
   ]
  },
  {
   "cell_type": "markdown",
   "metadata": {},
   "source": [
    "# 4. Cleaning the gender feature"
   ]
  },
  {
   "cell_type": "code",
   "execution_count": 130,
   "metadata": {
    "collapsed": false
   },
   "outputs": [
    {
     "data": {
      "image/png": "[encoded data removed]",
      "text/plain": [
       "<matplotlib.figure.Figure at 0x116e73588>"
      ]
     },
     "metadata": {},
     "output_type": "display_data"
    }
   ],
   "source": [
    "df.id.groupby(df.gender).count().plot(kind='bar', alpha=0.4, color='b',figsize=(20,10))\n",
    "plt.ylabel('Number of  users')\n",
    "plt.show()"
   ]
  },
  {
   "cell_type": "code",
   "execution_count": 149,
   "metadata": {
    "collapsed": false
   },
   "outputs": [
    {
     "name": "stdout",
     "output_type": "stream",
     "text": [
      "-unknown-    95688\n",
      "FEMALE       63041\n",
      "MALE         54440\n",
      "OTHER          282\n",
      "Name: gender, dtype: int64\n"
     ]
    }
   ],
   "source": [
    "print(df.gender.value_counts())"
   ]
  },
  {
   "cell_type": "code",
   "execution_count": 150,
   "metadata": {
    "collapsed": false
   },
   "outputs": [
    {
     "name": "stdout",
     "output_type": "stream",
     "text": [
      "UNK       95970\n",
      "FEMALE    63041\n",
      "MALE      54440\n",
      "Name: gender, dtype: int64\n"
     ]
    }
   ],
   "source": [
    "df.loc[df['gender']=='-unknown-', 'gender'] = 'UNK'\n",
    "df.loc[df['gender']=='OTHER', 'gender'] = 'UNK'\n",
    "print(df.gender.value_counts())"
   ]
  },
  {
   "cell_type": "code",
   "execution_count": 156,
   "metadata": {
    "collapsed": false,
    "scrolled": true
   },
   "outputs": [
    {
     "name": "stdout",
     "output_type": "stream",
     "text": [
      "\n",
      "We are left with (117481,) users\n",
      "\n",
      "[MALE, FEMALE]\n",
      "Categories (2, object): [MALE, FEMALE]\n"
     ]
    }
   ],
   "source": [
    "df_gender = copy.deepcopy(df)\n",
    "df_gender.gender = df_gender.gender.astype('category')\n",
    "\n",
    "df_gender = df_gender[df_gender['gender'] != 'UNK']\n",
    "df_gender['gender'] = df_gender['gender'].cat.remove_unused_categories()\n",
    "print('\\nWe are left with {} users\\n'.format(df_gender.gender.shape))\n",
    "print(df_gender['gender'].unique())"
   ]
  },
  {
   "cell_type": "markdown",
   "metadata": {},
   "source": [
    "# 5. Cleaning the first_affiliate_tracked feature\n",
    "\n",
    "This columns represents \"whats the first marketing the user interacted with before the signing up\" (quoting Kaggle description)"
   ]
  },
  {
   "cell_type": "code",
   "execution_count": 158,
   "metadata": {
    "collapsed": false
   },
   "outputs": [
    {
     "name": "stdout",
     "output_type": "stream",
     "text": [
      "untracked        109232\n",
      "linked            46287\n",
      "omg               43982\n",
      "tracked-other      6156\n",
      "product            1556\n",
      "marketing           139\n",
      "local ops            34\n",
      "Name: first_affiliate_tracked, dtype: int64\n"
     ]
    }
   ],
   "source": [
    "print(df.first_affiliate_tracked.value_counts())"
   ]
  },
  {
   "cell_type": "code",
   "execution_count": 159,
   "metadata": {
    "collapsed": false
   },
   "outputs": [
    {
     "data": {
      "text/plain": [
       "<matplotlib.text.Text at 0x116ec59e8>"
      ]
     },
     "execution_count": 159,
     "metadata": {},
     "output_type": "execute_result"
    },
    {
     "data": {
      "image/png": "[encoded data removed]",
      "text/plain": [
       "<matplotlib.figure.Figure at 0x12204d668>"
      ]
     },
     "metadata": {},
     "output_type": "display_data"
    }
   ],
   "source": [
    "df.id.groupby(df.first_affiliate_tracked).count().plot(kind=\"bar\")\n",
    "plt.ylabel('Number of users')"
   ]
  },
  {
   "cell_type": "code",
   "execution_count": 160,
   "metadata": {
    "collapsed": false
   },
   "outputs": [
    {
     "name": "stdout",
     "output_type": "stream",
     "text": [
      "Percentage of NaN for first_affiliate_tracked 2.84140153946 %\n"
     ]
    }
   ],
   "source": [
    "NaN_fat = df['first_affiliate_tracked'].isnull().sum()/len(df)*100\n",
    "print('Percentage of NaN for first_affiliate_tracked',NaN_fat,'%')"
   ]
  },
  {
   "cell_type": "markdown",
   "metadata": {},
   "source": [
    "# 6. Is the language feature relevant ?"
   ]
  },
  {
   "cell_type": "code",
   "execution_count": 162,
   "metadata": {
    "collapsed": false
   },
   "outputs": [
    {
     "data": {
      "text/plain": [
       "<matplotlib.text.Text at 0x11818d4e0>"
      ]
     },
     "execution_count": 162,
     "metadata": {},
     "output_type": "execute_result"
    },
    {
     "data": {
      "image/png": "[encoded data removed]",
      "text/plain": [
       "<matplotlib.figure.Figure at 0x1155a12e8>"
      ]
     },
     "metadata": {},
     "output_type": "display_data"
    }
   ],
   "source": [
    "df.id.groupby(df.language).count().plot(kind=\"bar\")\n",
    "plt.ylabel('Number of users')"
   ]
  },
  {
   "cell_type": "code",
   "execution_count": 164,
   "metadata": {
    "collapsed": false
   },
   "outputs": [
    {
     "name": "stdout",
     "output_type": "stream",
     "text": [
      "en    206314\n",
      "zh      1632\n",
      "fr      1172\n",
      "es       915\n",
      "ko       747\n",
      "de       732\n",
      "it       514\n",
      "ru       389\n",
      "pt       240\n",
      "ja       225\n",
      "sv       122\n",
      "nl        97\n",
      "tr        64\n",
      "da        58\n",
      "pl        54\n",
      "cs        32\n",
      "no        30\n",
      "el        24\n",
      "th        24\n",
      "id        22\n",
      "hu        18\n",
      "fi        14\n",
      "is         5\n",
      "ca         5\n",
      "hr         2\n",
      "Name: language, dtype: int64\n"
     ]
    }
   ],
   "source": [
    "print(df.language.value_counts())"
   ]
  },
  {
   "cell_type": "markdown",
   "metadata": {},
   "source": [
    "The Language feature is not relevant because the data is spread, however it is very concentrated on the english language. Hence, this feature might bring errors because classes are not balanced."
   ]
  },
  {
   "cell_type": "markdown",
   "metadata": {},
   "source": [
    "# 7. Studying the date_account_created feature"
   ]
  },
  {
   "cell_type": "code",
   "execution_count": 221,
   "metadata": {
    "collapsed": false
   },
   "outputs": [],
   "source": [
    "def convert_time2(row):\n",
    "    return datetime.strptime(row['date_account_created'], '%Y-%m-%d')\n",
    "\n",
    "df['date_account_created'] = df.apply(convert_time2, axis=1)"
   ]
  },
  {
   "cell_type": "code",
   "execution_count": 168,
   "metadata": {
    "collapsed": false
   },
   "outputs": [
    {
     "data": {
      "text/plain": [
       "<matplotlib.text.Text at 0x11818db00>"
      ]
     },
     "execution_count": 168,
     "metadata": {},
     "output_type": "execute_result"
    },
    {
     "data": {
      "image/png": "[encoded data removed]",
      "text/plain": [
       "<matplotlib.figure.Figure at 0x11ee6cf60>"
      ]
     },
     "metadata": {},
     "output_type": "display_data"
    }
   ],
   "source": [
    "df.id.groupby([df.date_account_created.dt.year, df.date_account_created.dt.month]).count().plot(kind=\"bar\",figsize=(20,10))\n",
    "plt.xlabel('date')\n",
    "plt.ylabel('Number of bookings')"
   ]
  },
  {
   "cell_type": "markdown",
   "metadata": {
    "collapsed": false
   },
   "source": [
    "## Correlation between the date where the account was created and the first booking"
   ]
  },
  {
   "cell_type": "code",
   "execution_count": 222,
   "metadata": {
    "collapsed": true
   },
   "outputs": [],
   "source": [
    "df_timecorr = copy.deepcopy(df)\n",
    "df_timecorr = df_timecorr.dropna(how='any',subset=['date_first_booking']) "
   ]
  },
  {
   "cell_type": "code",
   "execution_count": 223,
   "metadata": {
    "collapsed": false
   },
   "outputs": [],
   "source": [
    "df_timecorr['date_first_booking'] = df_timecorr.apply(convert_time, axis=1)"
   ]
  },
  {
   "cell_type": "code",
   "execution_count": 227,
   "metadata": {
    "collapsed": false
   },
   "outputs": [],
   "source": [
    "timediff = pd.DataFrame({'timediff': []})\n",
    "#for i in df_timecorr.index:\n",
    " #   timediff[i,'timediff'] = df_timecorr['date_first_booking'][i]-df_timecorr['date_account_created'][i]\n",
    "#print(timediff)"
   ]
  },
  {
   "cell_type": "code",
   "execution_count": 229,
   "metadata": {
    "collapsed": false
   },
   "outputs": [
    {
     "name": "stdout",
     "output_type": "stream",
     "text": [
      "        timediff\n",
      "2            -57\n",
      "3            278\n",
      "4           -208\n",
      "5              1\n",
      "6              3\n",
      "7             10\n",
      "8            206\n",
      "9              0\n",
      "10             2\n",
      "12            13\n",
      "15             1\n",
      "17             2\n",
      "19             0\n",
      "20             8\n",
      "21             1\n",
      "22             0\n",
      "25             3\n",
      "27            10\n",
      "28             0\n",
      "29             6\n",
      "30            10\n",
      "36             0\n",
      "41             2\n",
      "44             2\n",
      "45             4\n",
      "46            32\n",
      "47             0\n",
      "49             1\n",
      "51             1\n",
      "52             1\n",
      "...          ...\n",
      "213358         4\n",
      "213360       242\n",
      "213369         0\n",
      "213370         1\n",
      "213371         2\n",
      "213372       287\n",
      "213373         1\n",
      "213376         0\n",
      "213378         4\n",
      "213384       190\n",
      "213385       145\n",
      "213388       244\n",
      "213390         8\n",
      "213398         1\n",
      "213400        35\n",
      "213401        15\n",
      "213402       288\n",
      "213404         1\n",
      "213405       199\n",
      "213406         1\n",
      "213407         0\n",
      "213408         8\n",
      "213409        12\n",
      "213410       211\n",
      "213412       207\n",
      "213415         0\n",
      "213439       259\n",
      "213441        44\n",
      "213443        13\n",
      "213445         2\n",
      "\n",
      "[88908 rows x 1 columns]\n"
     ]
    }
   ],
   "source": [
    "timediff['timediff'] = np.round((df_timecorr['date_first_booking'] - df_timecorr['date_account_created']).dt.days).astype(np.int16)\n",
    "\n",
    "#df.id.groupby(df_timecorr.date_first_booking - df_timecorr.date_account_created).count().plot(kind=\"bar\",figsize=(20,10))\n",
    "#plt.xlabel('date')\n",
    "print(timediff)"
   ]
  },
  {
   "cell_type": "markdown",
   "metadata": {},
   "source": [
    "# Testing cells below"
   ]
  },
  {
   "cell_type": "code",
   "execution_count": 169,
   "metadata": {
    "collapsed": false
   },
   "outputs": [
    {
     "data": {
      "image/png": "[encoded data removed]",
      "text/plain": [
       "<matplotlib.figure.Figure at 0x11812f518>"
      ]
     },
     "metadata": {},
     "output_type": "display_data"
    }
   ],
   "source": [
    "corr = np.abs(df.corr())\n",
    "hm = sns.heatmap(corr, \n",
    "            xticklabels=corr.columns.values,\n",
    "            yticklabels=corr.columns.values)"
   ]
  },
  {
   "cell_type": "code",
   "execution_count": null,
   "metadata": {
    "collapsed": true
   },
   "outputs": [],
   "source": []
  }
 ],
 "metadata": {
  "anaconda-cloud": {},
  "kernelspec": {
   "display_name": "Python [default]",
   "language": "python",
   "name": "python3"
  },
  "language_info": {
   "codemirror_mode": {
    "name": "ipython",
    "version": 3
   },
   "file_extension": ".py",
   "mimetype": "text/x-python",
   "name": "python",
   "nbconvert_exporter": "python",
   "pygments_lexer": "ipython3",
   "version": "3.5.2"
  }
 },
 "nbformat": 4,
 "nbformat_minor": 1
}
